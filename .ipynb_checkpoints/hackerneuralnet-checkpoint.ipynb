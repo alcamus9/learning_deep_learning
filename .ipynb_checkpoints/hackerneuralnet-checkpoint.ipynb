{
 "cells": [
  {
   "cell_type": "markdown",
   "metadata": {},
   "source": [
    "# A friendly Introduction to Backpropagation in Python\n",
    "\n",
    "My aim here is to test my understanding of Karpathy's great blog post [\"Hacker's guide to Neural Networks\"](http://karpathy.github.io/neuralnets/) as well as of Python, to get a hang of which I recently perused through [Derek](http://www.newthinktank.com/2016/07/learn-program-9/) [Banas'](http://www.newthinktank.com/2016/07/learn-program-10/) [awesome](http://www.newthinktank.com/2016/07/learn-program-11/) [commented](http://www.newthinktank.com/2016/07/learn-program-12/) [code](http://www.newthinktank.com/2016/07/learn-program-13/) [expositions](http://www.newthinktank.com/2016/08/learn-program-15/). As someone steeped in R and classical statistical learning methods for structured data, I'm very new to both Python as well as Neural nets, so it is best not to fall into the easy delusions of competence that stem from being able to follow things while reading about them. Therefore, code.\n"
   ]
  },
  {
   "cell_type": "markdown",
   "metadata": {},
   "source": [
    "### Neural Gates\n",
    "\n",
    "One way to understand any node of a neural network is as a gate, which takes in one or more inputs, and produces an output, just like a function.\n",
    "\n",
    "For example, consider a gate that takes in x and y, and computes:"
   ]
  },
  {
   "cell_type": "raw",
   "metadata": {},
   "source": [
    "f(x,y) = x * y"
   ]
  },
  {
   "cell_type": "markdown",
   "metadata": {},
   "source": [
    "Let's implement such a gate in Python:"
   ]
  },
  {
   "cell_type": "code",
   "execution_count": 24,
   "metadata": {
    "collapsed": false
   },
   "outputs": [
    {
     "data": {
      "text/plain": [
       "-6"
      ]
     },
     "execution_count": 24,
     "metadata": {},
     "output_type": "execute_result"
    }
   ],
   "source": [
    "def forwardMultiplyGate(x,y):\n",
    "    return(x*y)\n",
    "forwardMultiplyGate(-2, 3)"
   ]
  },
  {
   "cell_type": "markdown",
   "metadata": {},
   "source": [
    "Similarly, we can have a gate that computes the sum of its two inputs."
   ]
  },
  {
   "cell_type": "code",
   "execution_count": 25,
   "metadata": {
    "collapsed": false
   },
   "outputs": [
    {
     "data": {
      "text/plain": [
       "1"
      ]
     },
     "execution_count": 25,
     "metadata": {},
     "output_type": "execute_result"
    }
   ],
   "source": [
    "def forwardAddGate(x,y):\n",
    "    return(x+y)\n",
    "forwardAddGate(-2,3)"
   ]
  },
  {
   "cell_type": "markdown",
   "metadata": {},
   "source": [
    "And a gate that computes the max of its two inputs"
   ]
  },
  {
   "cell_type": "code",
   "execution_count": 6,
   "metadata": {
    "collapsed": false
   },
   "outputs": [
    {
     "data": {
      "text/plain": [
       "3"
      ]
     },
     "execution_count": 6,
     "metadata": {},
     "output_type": "execute_result"
    }
   ],
   "source": [
    "def forwardMaxGate(x, y):\n",
    "    return(max(x,y))\n",
    "forwardMaxGate(2,3)"
   ]
  },
  {
   "cell_type": "markdown",
   "metadata": {},
   "source": [
    "### The Optimization Problem\n",
    "\n",
    "Think of the goal of the circuit as to maximize the output. This is the optimization problem for the neural network (actually it is to minimize the loss function, but the difference is trivial for that's the same as maximizing the negative of loss function). Now it becomes crucial to identify how to modify the inputs a little bit, to make the output a little larger. If we are able to devise a method to identify that, we can try that method again and again to get successively larger values of the output, until we hit a wall and the output ceases to increase. At that point, we will say that we have maximized the output, at least locally.\n",
    "\n",
    "#### Illustration with a simple circuit with just one gate, the forwardMultiplyGate\n",
    "\n",
    "Suppose that the forwardMultiplyGate defined earlier is the only gate in our neural network. How we want to tweak each input depends on the output's sensitivity (or response) to changes in that input. Since the output is essentially a function of the inputs as shown before, the sensitivity of the output to each of the inputs is just the partial derivative with respect to that input, let us compute that:"
   ]
  },
  {
   "cell_type": "code",
   "execution_count": 7,
   "metadata": {
    "collapsed": false
   },
   "outputs": [],
   "source": [
    "# custom exception if user enters a 'wrt' argument different from x or y\n",
    "class InvalidWRTargError(Exception):\n",
    "    def __init__(self, *args, **kwargs):\n",
    "        Exception.__init__(self, *args, **kwargs)\n",
    "\n",
    "# write a function that numerically computes the partial derivative\n",
    "# for a gate defined by function 'func', w.r.t a given input 'wrt'\n",
    "\n",
    "# assume multiplicative gate if gate function not specified\n",
    "\n",
    "def getNumericalForwardGradient(x, y, wrt, func=forwardMultiplyGate):\n",
    "    initial=func(x,y)\n",
    "    h=0.0001\n",
    "    try:\n",
    "        if wrt==x:\n",
    "            final=func(x+h, y)\n",
    "        elif wrt==y:\n",
    "            final=func(x,y+h)\n",
    "        else:\n",
    "            raise InvalidWRTargError\n",
    "    except InvalidWRTargError:\n",
    "        return(\"third argument (wrt) should equal one of the inputs (first 2 arguments)\")\n",
    "    return((final-initial)/h)"
   ]
  },
  {
   "cell_type": "code",
   "execution_count": 8,
   "metadata": {
    "collapsed": false
   },
   "outputs": [
    {
     "data": {
      "text/plain": [
       "4.000000000008441"
      ]
     },
     "execution_count": 8,
     "metadata": {},
     "output_type": "execute_result"
    }
   ],
   "source": [
    "getNumericalForwardGradient(3, 4, wrt=3, func=forwardMultiplyGate)"
   ]
  },
  {
   "cell_type": "markdown",
   "metadata": {},
   "source": [
    "The gradient of the multiplicative gate with respect to x, when x=3 and y=4, equals 4, as expected, since del(xy)/del(x) = y, which is 4.\n",
    "\n",
    "Since the gradient is positive, increasing x a little bit should increase the output. Let's check:"
   ]
  },
  {
   "cell_type": "code",
   "execution_count": 9,
   "metadata": {
    "collapsed": false
   },
   "outputs": [
    {
     "data": {
      "text/plain": [
       "12"
      ]
     },
     "execution_count": 9,
     "metadata": {},
     "output_type": "execute_result"
    }
   ],
   "source": [
    "forwardMultiplyGate(3, 4)"
   ]
  },
  {
   "cell_type": "code",
   "execution_count": 10,
   "metadata": {
    "collapsed": false
   },
   "outputs": [
    {
     "data": {
      "text/plain": [
       "12.04"
      ]
     },
     "execution_count": 10,
     "metadata": {},
     "output_type": "execute_result"
    }
   ],
   "source": [
    "forwardMultiplyGate(3.01, 4)"
   ]
  },
  {
   "cell_type": "markdown",
   "metadata": {},
   "source": [
    "Just as we expected, the output increased.\n",
    "\n",
    "This was a simple gate. But what if the gate implements the function f(x) where :"
   ]
  },
  {
   "cell_type": "raw",
   "metadata": {},
   "source": [
    "f(x) = 100 - (x-y)^2"
   ]
  },
  {
   "cell_type": "code",
   "execution_count": 12,
   "metadata": {
    "collapsed": true
   },
   "outputs": [],
   "source": [
    "def forwardCustomGate(x,y):\n",
    "    return(100-(x-y)**2)"
   ]
  },
  {
   "cell_type": "markdown",
   "metadata": {},
   "source": [
    "If we provide 3 and 4 to such a gate, it should try to bring x and y closer together such that the output is maximized. It's trivial to see that this function is maximized at x=y\n",
    "\n",
    "See the following for a visual aid:"
   ]
  },
  {
   "cell_type": "code",
   "execution_count": 14,
   "metadata": {
    "collapsed": false
   },
   "outputs": [
    {
     "data": {
      "image/png": "[encoded data removed]",
      "text/plain": [
       "<matplotlib.figure.Figure at 0x10c10f4e0>"
      ]
     },
     "metadata": {},
     "output_type": "display_data"
    }
   ],
   "source": [
    "%matplotlib inline\n",
    "from mpl_toolkits.mplot3d import Axes3D\n",
    "import matplotlib.pyplot as plt\n",
    "import numpy as np\n",
    "fig = plt.figure()\n",
    "ax = fig.add_subplot(111, projection='3d')\n",
    "xs=3+np.random.rand(1000)\n",
    "ys=3+np.random.rand(1000)\n",
    "ax.scatter(xs, ys, forwardCustomGate(xs, ys), alpha=0.2)\n",
    "ax.view_init(elev=20, azim=60)"
   ]
  },
  {
   "cell_type": "markdown",
   "metadata": {},
   "source": [
    "Now let's define this gate and see whether our method of computing gradients and modifying inputs helps in increasing the output of this gate."
   ]
  },
  {
   "cell_type": "code",
   "execution_count": 15,
   "metadata": {
    "collapsed": false
   },
   "outputs": [],
   "source": [
    "def applyGradientOnce(x, y, func, step_size):\n",
    "    initial = func(x, y)\n",
    "    gradient_wrt_x=getNumericalForwardGradient(x,y,x, func)\n",
    "    gradient_wrt_y=getNumericalForwardGradient(x,y,y, func)\n",
    "    x = x + gradient_wrt_x*step_size\n",
    "    y = y + gradient_wrt_y*step_size\n",
    "    final=func(x,y)\n",
    "    return(final)"
   ]
  },
  {
   "cell_type": "code",
   "execution_count": 16,
   "metadata": {
    "collapsed": false
   },
   "outputs": [
    {
     "data": {
      "text/plain": [
       "99"
      ]
     },
     "execution_count": 16,
     "metadata": {},
     "output_type": "execute_result"
    }
   ],
   "source": [
    "forwardCustomGate(3,4)"
   ]
  },
  {
   "cell_type": "code",
   "execution_count": 17,
   "metadata": {
    "collapsed": false
   },
   "outputs": [
    {
     "data": {
      "text/plain": [
       "99.00798399999998"
      ]
     },
     "execution_count": 17,
     "metadata": {},
     "output_type": "execute_result"
    }
   ],
   "source": [
    "applyGradientOnce(3, 4, forwardCustomGate, 0.001)"
   ]
  },
  {
   "cell_type": "markdown",
   "metadata": {},
   "source": [
    "As expected, modifying the inputs a little bit in the direction implied by the gradients results in a higher output. Now let's do this many, many times until the improvement or increase in the output is not significant anymore."
   ]
  },
  {
   "cell_type": "code",
   "execution_count": 18,
   "metadata": {
    "collapsed": false
   },
   "outputs": [],
   "source": [
    "# recursive program for optimizing a binary function via gradient descent\n",
    "def optimizeBinaryFunction(x, y, func, step_size):\n",
    "    previous_val=func(x,y)\n",
    "    gradient_wrt_x=getNumericalForwardGradient(x,y,x, func)\n",
    "    gradient_wrt_y=getNumericalForwardGradient(x,y,y, func)\n",
    "    x = x + gradient_wrt_x*step_size\n",
    "    y = y + gradient_wrt_y*step_size\n",
    "    new_val=func(x,y)\n",
    "    if new_val-previous_val<0.000005:\n",
    "        return([previous_val, x, y])\n",
    "    else:\n",
    "        return(optimizeBinaryFunction(x, y, func, step_size))"
   ]
  },
  {
   "cell_type": "code",
   "execution_count": 19,
   "metadata": {
    "collapsed": false,
    "scrolled": true
   },
   "outputs": [
    {
     "data": {
      "text/plain": [
       "[99.99937812746526, 3.487488988616036, 3.512326611377091]"
      ]
     },
     "execution_count": 19,
     "metadata": {},
     "output_type": "execute_result"
    }
   ],
   "source": [
    "optimizeBinaryFunction(3, 4, forwardCustomGate, step_size=0.001)"
   ]
  },
  {
   "cell_type": "markdown",
   "metadata": {},
   "source": [
    "As expected, optimizing in this way brought x from <b>3</b> to <b>3.49</b> and y from <b>4</b> to <b>3.51</b>, to maximize the output at <b>99.999</b>."
   ]
  },
  {
   "cell_type": "markdown",
   "metadata": {},
   "source": [
    "### Using analytical gradients\n",
    "\n",
    "So far, we have demonstrated an application of the <b>gradient descent</b> method to optimize a single function by calculating gradients numerically via the getNumericalForwardGradient function. In practice, neural networks contain a large number of complex gates such that numerically computing the gradients every time becomes very expensive. Therefore, we often use analytical gradients, which are more accurate and computationally less demanding. \n",
    "\n",
    "This raises the question: what if the expression is complicated such that the analytical solution for the gradient is hard to mathematically solve for. We will see that to deal with such situations, we can get away with computing the analytical gradient for some simple expressions and then applying the <b>chain rule.</b>"
   ]
  },
  {
   "cell_type": "markdown",
   "metadata": {},
   "source": [
    "## Circuits with multiple neural gates"
   ]
  },
  {
   "cell_type": "markdown",
   "metadata": {
    "collapsed": true
   },
   "source": [
    "Let's consider a gate that takes x, y, and z as inputs and outputs :"
   ]
  },
  {
   "cell_type": "raw",
   "metadata": {},
   "source": [
    "f(x, y, z) = (x + y) *  z"
   ]
  },
  {
   "cell_type": "markdown",
   "metadata": {},
   "source": [
    "In fact, this is a essentially combination of two simple gates: an addition gate that takes in x and y, and a multiplication gate that takes in r and the output of the addition gate, say q. We can define this gate as follows:"
   ]
  },
  {
   "cell_type": "code",
   "execution_count": 26,
   "metadata": {
    "collapsed": false
   },
   "outputs": [
    {
     "data": {
      "text/plain": [
       "-12"
      ]
     },
     "execution_count": 26,
     "metadata": {},
     "output_type": "execute_result"
    }
   ],
   "source": [
    "def forwardCircuit(x, y, z):\n",
    "    return(forwardMultiplyGate(forwardAddGate(x,y),z))\n",
    "\n",
    "forwardCircuit(-2, 5, -4)"
   ]
  },
  {
   "cell_type": "markdown",
   "metadata": {},
   "source": [
    "![displaycircuit](img/aa.png)"
   ]
  },
  {
   "cell_type": "markdown",
   "metadata": {},
   "source": [
    "Image above has been taken from http://karpathy.github.io/neuralnets/"
   ]
  },
  {
   "cell_type": "markdown",
   "metadata": {},
   "source": [
    "## Backpropagation\n",
    "\n",
    "Optimizing this circuit would require us to compute the gradient for the entire circuit. Instead, we will compute the gradient for each of the component gates and then apply chain rule to get the gradient for the entire circuit.\n",
    "\n",
    "\\begin{equation}q(x, y)= x + y \\end{equation}\n",
    "\n",
    "\\begin{equation}\n",
    "\\frac{\\partial q}{\\partial x} = 1\n",
    "\\end{equation}\n",
    "\n",
    "\\begin{equation}\n",
    "\\frac{\\partial q}{\\partial y} = 1\n",
    "\\end{equation}\n",
    "\n",
    "\n",
    "\\begin{equation}\n",
    "\\frac{\\partial f}{\\partial q} = z\n",
    "\\end{equation}\n",
    "\n",
    "\\begin{equation}\n",
    "------------------------\n",
    "\\end{equation}\n",
    "\n",
    "\\begin{equation}\n",
    "\\frac{\\partial f}{\\partial z} = x+y\n",
    "\\end{equation}\n",
    "\n",
    "\n",
    "\\begin{equation}\n",
    "\\frac{\\partial f}{\\partial x} = \\frac{\\partial f}{\\partial q}.\\frac{\\partial q}{\\partial x} = z.1 = z\n",
    "\\end{equation}\n",
    "\n",
    "\\begin{equation}\n",
    "\\frac{\\partial f}{\\partial y} = \\frac{\\partial f}{\\partial q}.\\frac{\\partial q}{\\partial y} = z.1 = z\n",
    "\\end{equation}"
   ]
  },
  {
   "cell_type": "markdown",
   "metadata": {},
   "source": [
    "Here, q is just a forwardAddGate with inputs x and y, and f is a forwardMultiplyGate with inputs z and q. The last two equations above are key: when calculating the gradient of the entire circuit with respect to x (or y) we merely calculate the gradient of the gate q with respect to x (or y) and magnify it by a factor equal to the gradient of the circuit with respect to the output of gate q.\n",
    "\n",
    "For inputs to this circuit <b>x=-2, y=5, z=-4</b> it is straightforward to compute that $\\frac{\\partial f}{\\partial x} = \\frac{\\partial f}{\\partial q}.\\frac{\\partial q}{\\partial x} = z.1 = -4*1 = -4$\n",
    "\n",
    "Let's see what's going on here. As such $\\frac{\\partial q}{\\partial x}$ equals 1, i.e, increasing x increases the output of gate q. However, in the larger circuit (f) the output is increased by a reduction in the output of q, since $\\frac{\\partial f}{\\partial q} = z = -4$ is a negative number. Hence, the goal, which is to maximize its output of the larger circuit f, is served by reducing q, for which x needs to be reduced.\n",
    "\n",
    "Hopefully, it is clear now that in this circuit, to calculate the gradient with respect to any input, we need to just calculate the gradient for the simpler gate which directly takes that input, with respect to that input; and then multiply the result obtained with the gradient of the circuit with respect to that gate (chain rule). \n",
    "\n",
    "<i>But in a more complex circuit, that gate might lead into multiple other gates before the output stage, so it is best to do the chain computation backwards, starting from the output stage. (<b>Backpropagation</b>)</i>\n"
   ]
  },
  {
   "cell_type": "markdown",
   "metadata": {},
   "source": [
    "![showgradient](img/bb.png)"
   ]
  },
  {
   "cell_type": "markdown",
   "metadata": {},
   "source": [
    "Image above has been taken from http://karpathy.github.io/neuralnets/"
   ]
  },
  {
   "cell_type": "markdown",
   "metadata": {},
   "source": [
    "\n",
    "Seeing as how we can use the chain rule, we may focus now on local gradients for some simple gates:\n",
    "\n",
    "When $f(x,y)=max(x,y)$ ; $\\frac{\\partial f}{\\partial x} = logical(x>y)$ and $\\frac{\\partial f}{\\partial y} = logical(y>x)$\n",
    "\n",
    "\n",
    "When $f(x,y)= x + y $ ; $\\frac{\\partial f}{\\partial x} = \\frac{\\partial f}{\\partial y}  = 1 $\n",
    "\n",
    "When $f(x,y)= x * y $ ; $\\frac{\\partial f}{\\partial x} = y $ and $\\frac{\\partial f}{\\partial y} = x $\n",
    "\n",
    "I just realized we haven't coded in a while. Oops. Now we will code all that we discussed and see how backpropagation helps us calculate the same gradient using the chain rule."
   ]
  },
  {
   "cell_type": "code",
   "execution_count": 21,
   "metadata": {
    "collapsed": true
   },
   "outputs": [],
   "source": [
    "class Unit:\n",
    "    \n",
    "    def __init__(self, value, grad):\n",
    "        self.value=value\n",
    "        self.grad=grad\n",
    "\n",
    "class MultiplyGate:\n",
    "        \"\"\"\n",
    "        Attributes not in constructor:\n",
    "        input1: first gate that inputs into the multiply gate\n",
    "        input2: second gate that inputs into the multiply gate\n",
    "        output: the output version of the gate that goes as input elsewhere\n",
    "        \"\"\"\n",
    "        \n",
    "        def forward(self, input1, input2): #input1,input2 are also Units\n",
    "            # store pointers to input gates:\n",
    "            self.input1=input1\n",
    "            self.input2=input2\n",
    "            self.output=Unit(input1.value*input2.value, 0.0)\n",
    "            return(self.output)\n",
    "            \n",
    "        #take the gradient in output and chain it with local gradients    \n",
    "        def backward(self):\n",
    "            self.input1.grad += self.input2.value * self.output.grad \n",
    "            self.input2.grad += self.input1.value * self.output.grad \n",
    "\n",
    "class AddGate:\n",
    "           \n",
    "        def forward(self, input1, input2):\n",
    "            self.input1=input1\n",
    "            self.input2=input2\n",
    "            self.output=Unit(input1.value+input2.value, 0.0)\n",
    "            return(self.output)\n",
    "            \n",
    "        def backward(self):\n",
    "            self.input1.grad += 1 * self.output.grad \n",
    "            self.input2.grad += 1 * self.output.grad \n",
    "            \n",
    "class SigmoidGate:\n",
    "           \n",
    "        def forward(self, input1):\n",
    "            self.input1=input1\n",
    "            self.output=Unit(1/(1+exp(-input1.value)), 0.0)\n",
    "            return(self.output)\n",
    "            \n",
    "        def backward(self):\n",
    "            self.input1.grad += (self.output.value*(1-self.output.value)) * self.output.grad "
   ]
  },
  {
   "cell_type": "markdown",
   "metadata": {},
   "source": [
    "Having defined the gates and units, let us run the forward pass to generate output values:"
   ]
  },
  {
   "cell_type": "code",
   "execution_count": 20,
   "metadata": {
    "collapsed": false
   },
   "outputs": [
    {
     "name": "stdout",
     "output_type": "stream",
     "text": [
      "-12\n"
     ]
    }
   ],
   "source": [
    "# Forward Pass\n",
    "\n",
    "x=Unit(-2,0)\n",
    "y=Unit(5,0)\n",
    "z=Unit(-4,0)\n",
    "\n",
    "a=AddGate()\n",
    "q=a.forward(x,y)\n",
    "\n",
    "m=MultiplyGate()\n",
    "f=m.forward(q,z)\n",
    "\n",
    "print(f.value) #should come out to (-2 + 5)*-4 , i.e., -12"
   ]
  },
  {
   "cell_type": "markdown",
   "metadata": {},
   "source": [
    "Now let us run the backward pass to decipher the gradient df/dx:"
   ]
  },
  {
   "cell_type": "code",
   "execution_count": 18,
   "metadata": {
    "collapsed": false
   },
   "outputs": [
    {
     "data": {
      "text/plain": [
       "-4.0"
      ]
     },
     "execution_count": 18,
     "metadata": {},
     "output_type": "execute_result"
    }
   ],
   "source": [
    "# Backward Pass\n",
    "\n",
    "f.grad=1\n",
    "m.backward()\n",
    "a.backward()\n",
    "a.input1.grad"
   ]
  },
  {
   "cell_type": "markdown",
   "metadata": {},
   "source": [
    "So now we've implemented backprop from scratch for a simple circuit, and seen how to obtain gradients of a larger circuit with respect to individual inputs using the chain rule backwards. That was fun!"
   ]
  }
 ],
 "metadata": {
  "anaconda-cloud": {},
  "kernelspec": {
   "display_name": "Python [default]",
   "language": "python",
   "name": "python3"
  },
  "language_info": {
   "codemirror_mode": {
    "name": "ipython",
    "version": 3
   },
   "file_extension": ".py",
   "mimetype": "text/x-python",
   "name": "python",
   "nbconvert_exporter": "python",
   "pygments_lexer": "ipython3",
   "version": "3.5.2"
  }
 },
 "nbformat": 4,
 "nbformat_minor": 1
}
